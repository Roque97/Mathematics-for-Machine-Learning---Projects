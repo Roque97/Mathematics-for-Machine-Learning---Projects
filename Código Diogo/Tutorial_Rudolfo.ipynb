{
 "cells": [
  {
   "cell_type": "code",
   "execution_count": 2,
   "metadata": {
    "execution": {
     "iopub.execute_input": "2022-10-13T13:07:44.569848Z",
     "iopub.status.busy": "2022-10-13T13:07:44.569123Z",
     "iopub.status.idle": "2022-10-13T13:07:47.366653Z",
     "shell.execute_reply": "2022-10-13T13:07:47.365858Z",
     "shell.execute_reply.started": "2022-10-13T13:07:44.569817Z"
    },
    "tags": []
   },
   "outputs": [],
   "source": [
    "from QGRAND.statistics import get_weight_statistics\n",
    "from QGRAND.encoding import get_random_parity_check_matrix\n",
    "import numpy as np"
   ]
  },
  {
   "cell_type": "code",
   "execution_count": 24,
   "metadata": {
    "execution": {
     "iopub.execute_input": "2022-10-13T13:48:42.260525Z",
     "iopub.status.busy": "2022-10-13T13:48:42.259832Z",
     "iopub.status.idle": "2022-10-13T13:48:42.264721Z",
     "shell.execute_reply": "2022-10-13T13:48:42.263635Z",
     "shell.execute_reply.started": "2022-10-13T13:48:42.260489Z"
    },
    "tags": []
   },
   "outputs": [],
   "source": [
    "n = 32\n",
    "k = 16"
   ]
  },
  {
   "cell_type": "code",
   "execution_count": 25,
   "metadata": {
    "execution": {
     "iopub.execute_input": "2022-10-13T13:48:42.907476Z",
     "iopub.status.busy": "2022-10-13T13:48:42.906871Z",
     "iopub.status.idle": "2022-10-13T13:48:42.914028Z",
     "shell.execute_reply": "2022-10-13T13:48:42.913025Z",
     "shell.execute_reply.started": "2022-10-13T13:48:42.907432Z"
    },
    "tags": []
   },
   "outputs": [
    {
     "name": "stdout",
     "output_type": "stream",
     "text": [
      "Help on function get_random_parity_check_matrix in module QGRAND.encoding:\n",
      "\n",
      "get_random_parity_check_matrix(n, s)\n",
      "    Creates a random 2n x s parity check matrix. Note that s = n - k.\n",
      "    \n",
      "    Parameters\n",
      "    ----------\n",
      "    n : int\n",
      "        Number of qubits.\n",
      "    s : int\n",
      "        Number of stabilizers.\n",
      "    \n",
      "    Returns\n",
      "    -------\n",
      "    2D array\n",
      "        2n x s parity check matrix.\n",
      "    \n",
      "    Notes\n",
      "    -----\n",
      "    Since the stabilizers need to commute with each other, and they must \n",
      "    generate the stabilizer set, it is easier to just use the Qiskit methods, \n",
      "    instead of doing something like in `get_random_error_matrix()`.\n",
      "\n"
     ]
    }
   ],
   "source": [
    "help(get_random_parity_check_matrix)"
   ]
  },
  {
   "cell_type": "code",
   "execution_count": 26,
   "metadata": {
    "execution": {
     "iopub.execute_input": "2022-10-13T13:48:43.514224Z",
     "iopub.status.busy": "2022-10-13T13:48:43.513786Z",
     "iopub.status.idle": "2022-10-13T13:48:43.531410Z",
     "shell.execute_reply": "2022-10-13T13:48:43.529033Z",
     "shell.execute_reply.started": "2022-10-13T13:48:43.514186Z"
    },
    "tags": []
   },
   "outputs": [],
   "source": [
    "parity_check_matrix = get_random_parity_check_matrix(n, n-k)"
   ]
  },
  {
   "cell_type": "code",
   "execution_count": 27,
   "metadata": {
    "execution": {
     "iopub.execute_input": "2022-10-13T13:48:44.035125Z",
     "iopub.status.busy": "2022-10-13T13:48:44.034563Z",
     "iopub.status.idle": "2022-10-13T13:48:44.043941Z",
     "shell.execute_reply": "2022-10-13T13:48:44.042791Z",
     "shell.execute_reply.started": "2022-10-13T13:48:44.035080Z"
    },
    "tags": []
   },
   "outputs": [
    {
     "data": {
      "text/plain": [
       "(16, 64)"
      ]
     },
     "execution_count": 27,
     "metadata": {},
     "output_type": "execute_result"
    }
   ],
   "source": [
    "parity_check_matrix.shape"
   ]
  },
  {
   "cell_type": "code",
   "execution_count": 28,
   "metadata": {
    "execution": {
     "iopub.execute_input": "2022-10-13T13:48:46.805642Z",
     "iopub.status.busy": "2022-10-13T13:48:46.805213Z",
     "iopub.status.idle": "2022-10-13T13:48:46.815834Z",
     "shell.execute_reply": "2022-10-13T13:48:46.814492Z",
     "shell.execute_reply.started": "2022-10-13T13:48:46.805615Z"
    },
    "tags": []
   },
   "outputs": [
    {
     "name": "stdout",
     "output_type": "stream",
     "text": [
      "Help on function get_weight_statistics in module QGRAND.statistics:\n",
      "\n",
      "get_weight_statistics(n, k, parity_check_matrix, prob=None, max_t=None, fill_syndromes=True, errors='all')\n",
      "    Statistics for a code, based on the error weight.\n",
      "    \n",
      "    Bernoulli noise is assumed, where the probability of an error occuring in \n",
      "    any qubit is given in `prob`. \n",
      "    \n",
      "    Parameters\n",
      "    ----------\n",
      "    n : int\n",
      "        Number of qubits in the encoding.\n",
      "    k : int\n",
      "        Original number of data qubits.\n",
      "    parity_check_matrix : 2D array\n",
      "        ((n-k) x 2n) 2D binary array, representing the parity check matrix of \n",
      "        the code.\n",
      "    prob : float, list, 1D array\n",
      "        Probabilities to consider, independently, for the statistics.\n",
      "    max_t : int\n",
      "        Maximum weight considered for the analysis. Defaults to `n`, although \n",
      "        that is too computationally hard for high `n`.\n",
      "    fill_syndromes : bool, default True\n",
      "        There are two approaches to check if an error has a syndrome already \n",
      "        associated with a more likely error. If ``True``, it creates a \n",
      "        syndrome table containing all possible syndromes and keeps track of \n",
      "        which syndromes have been seen before. If ``False``, adds any newly \n",
      "        seen syndrome to a set containing previously seen syndromes, and uses \n",
      "        that set to check if syndromes have been seen before. If the syndrome \n",
      "        table is small, the default option might be faster, but for large \n",
      "        (n-k), the syndrome table would be too large to store efficiently in \n",
      "        memory.\n",
      "    errors : {'all', 'X'}, default 'all'\n",
      "        Type of error statistics. If ``'all'``, it is depolarizing noise, and \n",
      "        it assumes that the X, Y, and Z errors are all equally likely, with \n",
      "        probability equal to 1/3. If ``'X'``, then only one error (such as X) \n",
      "        is assumed to occur.\n",
      "    \n",
      "    Returns\n",
      "    -------\n",
      "    failure_rate : 2D array\n",
      "        (n x prob.size) 2D array, containing the probability of the code \n",
      "        successfully correcting an error of weight `t` (with `t` going from 1 \n",
      "        to `n` in the first axis), for each probability in `prob` (second \n",
      "        axis). Note that, if `max_t` < `n`, the latter rows are redundant. \n",
      "        They are only kept there to keep the output in a consistent size, for \n",
      "        varying `max_t`.\n",
      "    correctable_fraction : 1D array\n",
      "        n-sized array containing the fraction of errors of weight `t` that can\n",
      "        be corrected (assuming that lower weight errors take precedence over \n",
      "        higher weight ones). The latter entries may be redundant.\n",
      "    mean_iterations : 2D array\n",
      "        (n x prob.size) 2D array, containing the mean number of iterations \n",
      "        that GRAND, with a membership test, would need to go through to \n",
      "        correct the errors it CAN correct.\n",
      "    \n",
      "    Warnings\n",
      "    --------\n",
      "    The option `errors` = ``'X'`` as never been properly tested. It is not \n",
      "    clear which errors the `mean_iterations` actually accounts for.\n",
      "    \n",
      "    This function does not consider degenerate scenarios.\n",
      "    \n",
      "    Notes\n",
      "    -----\n",
      "    This function considers all possibilities, and does not use Monte Carlo \n",
      "    approximations, so its results are exact, for the given parameters.\n",
      "\n"
     ]
    }
   ],
   "source": [
    "help(get_weight_statistics)"
   ]
  },
  {
   "cell_type": "code",
   "execution_count": 29,
   "metadata": {
    "execution": {
     "iopub.execute_input": "2022-10-13T13:48:48.258224Z",
     "iopub.status.busy": "2022-10-13T13:48:48.257396Z",
     "iopub.status.idle": "2022-10-13T13:48:48.389518Z",
     "shell.execute_reply": "2022-10-13T13:48:48.388733Z",
     "shell.execute_reply.started": "2022-10-13T13:48:48.258191Z"
    },
    "tags": []
   },
   "outputs": [],
   "source": [
    "infidelity, correctable_fraction, mean_iterations = get_weight_statistics(n, k, parity_check_matrix,\n",
    "                                                           prob = np.array([1e-3, 1e-2]),\n",
    "                                                           max_t = 2)"
   ]
  },
  {
   "cell_type": "code",
   "execution_count": 31,
   "metadata": {
    "execution": {
     "iopub.execute_input": "2022-10-13T13:49:17.802197Z",
     "iopub.status.busy": "2022-10-13T13:49:17.801774Z",
     "iopub.status.idle": "2022-10-13T13:49:17.809763Z",
     "shell.execute_reply": "2022-10-13T13:49:17.808558Z",
     "shell.execute_reply.started": "2022-10-13T13:49:17.802164Z"
    },
    "tags": []
   },
   "outputs": [
    {
     "data": {
      "text/plain": [
       "array([[4.86187079e-04, 4.06825858e-02],\n",
       "       [2.16741227e-05, 5.27559455e-03]])"
      ]
     },
     "execution_count": 31,
     "metadata": {},
     "output_type": "execute_result"
    }
   ],
   "source": [
    "infidelity[:2]"
   ]
  },
  {
   "cell_type": "code",
   "execution_count": 34,
   "metadata": {
    "execution": {
     "iopub.execute_input": "2022-10-13T14:57:39.902833Z",
     "iopub.status.busy": "2022-10-13T14:57:39.902121Z",
     "iopub.status.idle": "2022-10-13T14:57:39.909900Z",
     "shell.execute_reply": "2022-10-13T14:57:39.908706Z",
     "shell.execute_reply.started": "2022-10-13T14:57:39.902790Z"
    },
    "tags": []
   },
   "outputs": [
    {
     "data": {
      "text/plain": [
       "array([1.        , 0.96505376])"
      ]
     },
     "execution_count": 34,
     "metadata": {},
     "output_type": "execute_result"
    }
   ],
   "source": [
    "correctable_fraction[:2]"
   ]
  },
  {
   "cell_type": "code",
   "execution_count": 36,
   "metadata": {
    "execution": {
     "iopub.execute_input": "2022-10-13T15:00:39.001855Z",
     "iopub.status.busy": "2022-10-13T15:00:39.001421Z",
     "iopub.status.idle": "2022-10-13T15:00:39.012040Z",
     "shell.execute_reply": "2022-10-13T15:00:39.010875Z",
     "shell.execute_reply.started": "2022-10-13T15:00:39.001818Z"
    },
    "tags": []
   },
   "outputs": [
    {
     "data": {
      "text/plain": [
       "array([[ 1.50460275, 11.3653483 ],\n",
       "       [ 2.54998916, 91.04878201]])"
      ]
     },
     "execution_count": 36,
     "metadata": {},
     "output_type": "execute_result"
    }
   ],
   "source": [
    "mean_iterations[:2]"
   ]
  },
  {
   "cell_type": "code",
   "execution_count": 9,
   "metadata": {
    "execution": {
     "iopub.execute_input": "2022-10-13T13:08:09.411545Z",
     "iopub.status.busy": "2022-10-13T13:08:09.410608Z",
     "iopub.status.idle": "2022-10-13T13:08:10.475786Z",
     "shell.execute_reply": "2022-10-13T13:08:10.474908Z",
     "shell.execute_reply.started": "2022-10-13T13:08:09.411486Z"
    },
    "tags": []
   },
   "outputs": [],
   "source": [
    "from QGRAND.plotting import plot_infidelity"
   ]
  },
  {
   "cell_type": "code",
   "execution_count": 32,
   "metadata": {
    "execution": {
     "iopub.execute_input": "2022-10-13T14:55:44.957598Z",
     "iopub.status.busy": "2022-10-13T14:55:44.956804Z",
     "iopub.status.idle": "2022-10-13T14:55:53.101214Z",
     "shell.execute_reply": "2022-10-13T14:55:53.099570Z",
     "shell.execute_reply.started": "2022-10-13T14:55:44.957566Z"
    },
    "tags": []
   },
   "outputs": [
    {
     "ename": "IndexError",
     "evalue": "too many indices for array: array is 2-dimensional, but 5 were indexed",
     "output_type": "error",
     "traceback": [
      "\u001b[0;31m---------------------------------------------------------------------------\u001b[0m",
      "\u001b[0;31mIndexError\u001b[0m                                Traceback (most recent call last)",
      "Input \u001b[0;32mIn [32]\u001b[0m, in \u001b[0;36m<cell line: 1>\u001b[0;34m()\u001b[0m\n\u001b[0;32m----> 1\u001b[0m \u001b[43mplot_infidelity\u001b[49m\u001b[43m(\u001b[49m\u001b[43mn\u001b[49m\u001b[43m,\u001b[49m\u001b[43m \u001b[49m\u001b[43m[\u001b[49m\u001b[43mk\u001b[49m\u001b[43m]\u001b[49m\u001b[43m,\u001b[49m\u001b[43m \u001b[49m\u001b[43m[\u001b[49m\u001b[38;5;241;43m100\u001b[39;49m\u001b[43m]\u001b[49m\u001b[43m,\u001b[49m\u001b[43m \u001b[49m\u001b[43mnp\u001b[49m\u001b[38;5;241;43m.\u001b[39;49m\u001b[43marray\u001b[49m\u001b[43m(\u001b[49m\u001b[43m[\u001b[49m\u001b[38;5;241;43m1e-3\u001b[39;49m\u001b[43m,\u001b[49m\u001b[43m \u001b[49m\u001b[38;5;241;43m1e-2\u001b[39;49m\u001b[43m]\u001b[49m\u001b[43m)\u001b[49m\u001b[43m,\u001b[49m\u001b[43m \u001b[49m\u001b[38;5;241;43m2\u001b[39;49m\u001b[43m,\u001b[49m\u001b[43m \u001b[49m\u001b[43minfidelity\u001b[49m\u001b[43m)\u001b[49m\n",
      "File \u001b[0;32m~/MEGA/IST/IT/QIA-QEC/Jupyter/QGRAND/plotting.py:135\u001b[0m, in \u001b[0;36mplot_infidelity\u001b[0;34m(n, k_list, num_gates, p, max_t, infidelity, confidence_interval, interpolation, add_subplot_labeling, subplot_index, set_linear_formatter, fig_ax, show, save)\u001b[0m\n\u001b[1;32m    131\u001b[0m \u001b[38;5;28;01mfor\u001b[39;00m j, n_gates \u001b[38;5;129;01min\u001b[39;00m \u001b[38;5;28menumerate\u001b[39m(num_gates):\n\u001b[1;32m    132\u001b[0m     \u001b[38;5;28;01mfor\u001b[39;00m i \u001b[38;5;129;01min\u001b[39;00m \u001b[38;5;28mrange\u001b[39m(max_t):\u001b[38;5;66;03m# + [n-1]:\u001b[39;00m\n\u001b[1;32m    134\u001b[0m         y \u001b[38;5;241m=\u001b[39m interp1d(code_rate, \n\u001b[0;32m--> 135\u001b[0m                     np\u001b[38;5;241m.\u001b[39mmedian(\u001b[43minfidelity\u001b[49m\u001b[43m[\u001b[49m\u001b[43m:\u001b[49m\u001b[43m,\u001b[49m\u001b[43m \u001b[49m\u001b[43mj\u001b[49m\u001b[43m,\u001b[49m\u001b[43m \u001b[49m\u001b[43m:\u001b[49m\u001b[43m,\u001b[49m\u001b[43m \u001b[49m\u001b[43mi\u001b[49m\u001b[43m,\u001b[49m\u001b[43m \u001b[49m\u001b[38;5;241;43m0\u001b[39;49m\u001b[43m]\u001b[49m, axis\u001b[38;5;241m=\u001b[39m\u001b[38;5;241m1\u001b[39m),\n\u001b[1;32m    136\u001b[0m                     kind\u001b[38;5;241m=\u001b[39minterpolation)(x)\n\u001b[1;32m    137\u001b[0m         q_m \u001b[38;5;241m=\u001b[39m interp1d(code_rate,\n\u001b[1;32m    138\u001b[0m                     np\u001b[38;5;241m.\u001b[39mquantile(infidelity[:, j, :, i, \u001b[38;5;241m0\u001b[39m], conf, axis\u001b[38;5;241m=\u001b[39m\u001b[38;5;241m1\u001b[39m),\n\u001b[1;32m    139\u001b[0m                     kind\u001b[38;5;241m=\u001b[39minterpolation)(x)\n\u001b[1;32m    140\u001b[0m         q_p \u001b[38;5;241m=\u001b[39m interp1d(code_rate,\n\u001b[1;32m    141\u001b[0m                 np\u001b[38;5;241m.\u001b[39mquantile(infidelity[:, j, :, i, \u001b[38;5;241m0\u001b[39m], \u001b[38;5;241m1\u001b[39m\u001b[38;5;241m-\u001b[39mconf, axis\u001b[38;5;241m=\u001b[39m\u001b[38;5;241m1\u001b[39m),\n\u001b[1;32m    142\u001b[0m                 kind\u001b[38;5;241m=\u001b[39minterpolation)(x)\n",
      "\u001b[0;31mIndexError\u001b[0m: too many indices for array: array is 2-dimensional, but 5 were indexed"
     ]
    },
    {
     "data": {
      "image/png": "[encoded data removed]",
      "text/plain": [
       "<Figure size 1000x600 with 2 Axes>"
      ]
     },
     "metadata": {},
     "output_type": "display_data"
    }
   ],
   "source": [
    "plot_infidelity(n, [k], [100], np.array([1e-3, 1e-2]), 2, infidelity)"
   ]
  },
  {
   "cell_type": "code",
   "execution_count": null,
   "metadata": {},
   "outputs": [],
   "source": []
  }
 ],
 "metadata": {
  "kernelspec": {
   "display_name": "Python 3",
   "language": "python",
   "name": "python3"
  },
  "language_info": {
   "codemirror_mode": {
    "name": "ipython",
    "version": 3
   },
   "file_extension": ".py",
   "mimetype": "text/x-python",
   "name": "python",
   "nbconvert_exporter": "python",
   "pygments_lexer": "ipython3",
   "version": "3.8.10"
  }
 },
 "nbformat": 4,
 "nbformat_minor": 4
}
