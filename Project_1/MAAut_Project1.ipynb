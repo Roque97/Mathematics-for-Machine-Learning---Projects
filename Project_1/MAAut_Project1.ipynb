{
 "cells": [
  {
   "cell_type": "markdown",
   "id": "469b5fac",
   "metadata": {},
   "source": [
    "# Project 1 - MAAut - André Roque"
   ]
  },
  {
   "cell_type": "code",
   "execution_count": 3,
   "id": "912d280c",
   "metadata": {},
   "outputs": [],
   "source": [
    "import numpy as np\n",
    "import matplotlib.pyplot as plt\n",
    "import random as rnd\n",
    "import pandas as pd"
   ]
  },
  {
   "cell_type": "code",
   "execution_count": 4,
   "id": "85669bb0",
   "metadata": {},
   "outputs": [],
   "source": [
    "ratings_csv = np.genfromtxt('ratings.csv', delimiter=',')\n",
    "ratings_csv=ratings_csv[1:]\n",
    "\n",
    "UserID=[row[0] for row in ratings_csv]\n",
    "Original_MoviesID=[row[1] for row in ratings_csv]\n",
    "Ratings=[row[2] for row in ratings_csv]\n"
   ]
  },
  {
   "cell_type": "code",
   "execution_count": 13,
   "id": "0c8b61fe",
   "metadata": {},
   "outputs": [
    {
     "data": {
      "image/png": "[encoded data removed]",
      "text/plain": [
       "<Figure size 432x288 with 1 Axes>"
      ]
     },
     "metadata": {
      "needs_background": "light"
     },
     "output_type": "display_data"
    }
   ],
   "source": [
    "#Ratings Histogram\n",
    "\n",
    "plt.xlim([0, 5])\n",
    "\n",
    "binwidth = 0.5\n",
    "plt.hist(Ratings, bins = np.arange(0, 5.0 + binwidth, binwidth))\n",
    "plt.title('Ratings Histogram')\n",
    "plt.xlabel('Average Rating')\n",
    "plt.ylabel('Count')\n",
    "\n",
    "plt.show()\n"
   ]
  },
  {
   "cell_type": "code",
   "execution_count": 15,
   "id": "96d7ac52",
   "metadata": {},
   "outputs": [],
   "source": [
    "#create new indexes for the movies Id's\n",
    "Different_MoviesID=np.unique(Original_MoviesID)\n",
    "New_MoviesID=[i for i in range(1,len(np.unique(Original_MoviesID)))]\n",
    "\n",
    "Nb_Entries=len(UserID)\n",
    "Nb_Movies=len(Different_MoviesID)\n",
    "Nb_Users=len(np.unique(UserID))\n",
    "\n",
    "Dict_MoviesID={}\n",
    "\n",
    "for i in range(Nb_Movies):\n",
    "    Dict_MoviesID[Different_MoviesID[i]]=i #The value is the new id and the key is the actual id\n"
   ]
  },
  {
   "cell_type": "code",
   "execution_count": 16,
   "id": "6a7d01bf",
   "metadata": {},
   "outputs": [],
   "source": [
    "#create the matrix of the ratings with 0 representing the missing values\n",
    "\n",
    "Ratings_Matrix=[[0 for i in range(Nb_Users)] for j in range(Nb_Movies) ]\n",
    "for i in range(Nb_Entries):\n",
    "    Ratings_Matrix[Dict_MoviesID[Original_MoviesID[i]]][int(UserID[i])-1]=Ratings[i]\n",
    "    \n",
    "#the entry i,j corresponds to the rating that the user j gave to the movie with the new id i\n",
    "\n",
    "#create the matrix of the ratings with inputed missing values using the mean of the observed value\n",
    "\n",
    "Ratings_Matrix_2=np.copy(Ratings_Matrix)\n",
    "\n",
    "for i in range(Nb_Movies):\n",
    "    mean=0\n",
    "    n_ent=0\n",
    "    for k in range(Nb_Users):\n",
    "        if Ratings_Matrix_2[i][k]!=0:\n",
    "            mean=mean+Ratings_Matrix_2[i][k]\n",
    "            n_ent=n_ent+1\n",
    "    mean=np.around(mean/n_ent,decimals=5)\n",
    "    for j in range(Nb_Users):\n",
    "        if Ratings_Matrix_2[i][j]==0:\n",
    "            Ratings_Matrix_2[i][j]=mean\n",
    "\n",
    "\n",
    "\n"
   ]
  },
  {
   "cell_type": "code",
   "execution_count": 17,
   "id": "69d4d71f",
   "metadata": {},
   "outputs": [],
   "source": [
    "#Construct train and test matrices\n",
    "\n",
    "#R-matrix to split\n",
    "#p - percentage of samples in the test ([0,1])\n",
    "\n",
    "def split(m,p,z):\n",
    "    R_train=np.copy(m)\n",
    "    R_test=[[0 for i in range(Nb_Users)] for j in range(Nb_Movies) ]\n",
    "    Nb_Indices=round(Nb_Entries*p)\n",
    "    indices=rnd.sample(range(0,Nb_Entries),Nb_Indices)\n",
    "    entries=[]\n",
    "    for i in indices:\n",
    "        user_ind=int(UserID[i])-1\n",
    "        movie_ind=Dict_MoviesID[Original_MoviesID[i]]\n",
    "        R_test[movie_ind][user_ind]=R_train[movie_ind][user_ind]\n",
    "        R_train[movie_ind][user_ind]=0\n",
    "        entries=entries+[[movie_ind,user_ind]]\n",
    "        \n",
    "    return([R_train,R_test,entries])"
   ]
  },
  {
   "cell_type": "code",
   "execution_count": 18,
   "id": "b1d74359",
   "metadata": {},
   "outputs": [],
   "source": [
    "#Cross validation error\n",
    "#Recieves a Train and a Test matrix, and the entries for the computation of the SSE and the MSE\n",
    "def CV_error(R_train, R_test, entries):\n",
    "    SSE=0\n",
    "    Nb_Entries=len(entries)\n",
    "    for i in entries:\n",
    "        user_ind=i[1]\n",
    "        movie_ind=i[0]\n",
    "        SSE= SSE + abs((abs(R_train[movie_ind][user_ind])-abs(R_test[movie_ind][user_ind])))**2\n",
    "\n",
    "    SEE=(SSE/Nb_Entries)**(1/2)\n",
    "    return([SSE,SEE])\n",
    "    "
   ]
  },
  {
   "cell_type": "code",
   "execution_count": 19,
   "id": "0b37fe98",
   "metadata": {},
   "outputs": [],
   "source": [
    "#Create train and test datasets for cross validation\n",
    "\n",
    "rnd.seed(1)\n",
    "[Ratings_Matrix_Train,Ratings_Matrix_Test,Entries]=split(Ratings_Matrix, 0.1,1)\n",
    "[Ratings_Matrix_Train_2,Ratings_Matrix_Test_2,Entries_2]=split(Ratings_Matrix, 0.1,1)"
   ]
  },
  {
   "cell_type": "code",
   "execution_count": 20,
   "id": "035d097e",
   "metadata": {},
   "outputs": [
    {
     "data": {
      "text/plain": [
       "[134257.75, 3.6488269240208884]"
      ]
     },
     "execution_count": 20,
     "metadata": {},
     "output_type": "execute_result"
    }
   ],
   "source": [
    "CV_error(Ratings_Matrix_Train,Ratings_Matrix_Test,Entries)"
   ]
  },
  {
   "cell_type": "code",
   "execution_count": 21,
   "id": "325b5508",
   "metadata": {},
   "outputs": [
    {
     "data": {
      "text/plain": [
       "[12869.25, 1.1296923824724425]"
      ]
     },
     "execution_count": 21,
     "metadata": {},
     "output_type": "execute_result"
    }
   ],
   "source": [
    "CV_error(Ratings_Matrix_Train_2,Ratings_Matrix_Test,Entries)"
   ]
  },
  {
   "cell_type": "markdown",
   "id": "87e4ba35",
   "metadata": {},
   "source": [
    "# SVD FACTORIZATION"
   ]
  },
  {
   "cell_type": "code",
   "execution_count": 22,
   "id": "7c699172",
   "metadata": {},
   "outputs": [],
   "source": [
    "#SVD Decompostion\n",
    "SVD_R=np.linalg.svd(Ratings_Matrix,full_matrices = False)\n",
    "SVD_R_2=np.linalg.svd(Ratings_Matrix_2,full_matrices = False)\n",
    "SVD_R_Train=np.linalg.svd(Ratings_Matrix_Train,full_matrices = False)\n",
    "SVD_R_Train_2=np.linalg.svd(Ratings_Matrix_2,full_matrices = False)"
   ]
  },
  {
   "cell_type": "code",
   "execution_count": 23,
   "id": "70528869",
   "metadata": {},
   "outputs": [],
   "source": [
    "#Receives a R matrix and an array [U,s,V] with the respective SVD decomposition\n",
    "#Returns the reconstruction error calculated using the 'norm' and the respective best aproximation matrix of R with rank k\n",
    "\n",
    "def SVD_pred(R,SVD,k,norm):\n",
    "    [U,s,V]=SVD\n",
    "    Sigma=np.copy(np.diag(s[:k]))#Create diagonal matrix\n",
    "    R_k=np.around(np.dot(np.dot(U[:,:k], Sigma),V[:k, :]),decimals=5)#Create matrix Rk\n",
    "    Reconstruction_error=np.linalg.norm(np.add(R,-R_k),norm)\n",
    "    return[Reconstruction_error,R_k]\n"
   ]
  },
  {
   "cell_type": "markdown",
   "id": "5c2c8b6e",
   "metadata": {},
   "source": [
    "#  Results"
   ]
  },
  {
   "cell_type": "code",
   "execution_count": 24,
   "id": "e882d125",
   "metadata": {},
   "outputs": [],
   "source": [
    "#List of every k from 1 to 50 and until 300 with a step of 10\n",
    "X=[i for i in range(1,50)]+[50+(10*i) for i in range(26)]"
   ]
  },
  {
   "cell_type": "code",
   "execution_count": 26,
   "id": "a5a033f8",
   "metadata": {},
   "outputs": [],
   "source": [
    "Results_SVD_R=[[SVD_pred(Ratings_Matrix,SVD_R,j,'fro')[0],[SVD_pred(Ratings_Matrix,SVD_R,j,'fro')[1]]] for j in X] #For R\n",
    "Results_SVD_R_2=[[SVD_pred(Ratings_Matrix_2,SVD_R_2,j,'fro')[0],[SVD_pred(Ratings_Matrix,SVD_R_2,j,'fro')[1]]] for j in X]#For R2"
   ]
  },
  {
   "cell_type": "code",
   "execution_count": null,
   "id": "fefdac4b",
   "metadata": {},
   "outputs": [],
   "source": [
    "Y1=[i[0] for i in Results_SVD_R] #Reconstruction error graph for R\n",
    "Y2=[i[0] for i in Results_SVD_R_2] #Reconstruction error graph for R_2"
   ]
  },
  {
   "cell_type": "code",
   "execution_count": null,
   "id": "3aa27c44",
   "metadata": {},
   "outputs": [],
   "source": [
    "plt.subplot(1,2,1)\n",
    "plt.plot(X,Y1)\n",
    "plt.xlabel(\"Value of k\")\n",
    "plt.ylabel(\"Error\")\n",
    "plt.title(\"Reconstruction error for R\")\n",
    "\n",
    "plt.subplot(1, 2, 2)\n",
    "plt.plot(X,Y2)\n",
    "plt.xlabel(\"Value of k\")\n",
    "plt.ylabel(\"Error\")\n",
    "plt.title(\"Reconstruction error for R2\")\n",
    "\n",
    "plt.tight_layout()\n",
    "plt.show()"
   ]
  },
  {
   "cell_type": "code",
   "execution_count": 165,
   "id": "fa44d407",
   "metadata": {},
   "outputs": [],
   "source": [
    "Results_SVD_CV_R=[CV_error(SVD_pred(Ratings_Matrix_Train,SVD_R_Train,k,'fro')[1],Ratings_Matrix_Test,Entries) for k in X]"
   ]
  },
  {
   "cell_type": "code",
   "execution_count": 162,
   "id": "d9a4583b",
   "metadata": {},
   "outputs": [],
   "source": [
    "Results_SVD_CV_R_2=[CV_error(SVD_pred(Ratings_Matrix_Train_2,SVD_R_Train_2,k,'fro')[1],Ratings_Matrix_Test_2,Entries_2) for k in X]"
   ]
  },
  {
   "cell_type": "code",
   "execution_count": 166,
   "id": "d24888d5",
   "metadata": {},
   "outputs": [],
   "source": [
    "YCV=[i[0] for i in Results_SVD_CV_R]\n",
    "YCV2=[i[0] for i in Results_SVD_CV_R_2]\n",
    "\n",
    "YCV_M=[i[1] for i in Results_SVD_CV_R]\n",
    "YCV_M2 =[ i[1] for i in Results_SVD_CV_R_2]"
   ]
  },
  {
   "cell_type": "code",
   "execution_count": 167,
   "id": "f54aefd9",
   "metadata": {},
   "outputs": [
    {
     "data": {
      "image/png": "[encoded data removed]",
      "text/plain": [
       "<Figure size 432x288 with 4 Axes>"
      ]
     },
     "metadata": {
      "needs_background": "light"
     },
     "output_type": "display_data"
    }
   ],
   "source": [
    "plt.title(\"Cross Validation Errors for R and R2\")\n",
    "\n",
    "plt.subplot(2,2,1)\n",
    "plt.plot(X,YCV)\n",
    "plt.xlabel(\"Value of k\")\n",
    "plt.ylabel(\"SSE\")\n",
    "plt.title(\"R\")\n",
    "\n",
    "plt.subplot(2,2,2)\n",
    "plt.plot(X,YCV2)\n",
    "plt.xlabel(\"Value of k\")\n",
    "plt.ylabel(\"SSE\")\n",
    "plt.title(\"R2\")\n",
    "\n",
    "plt.subplot(2,2,3)\n",
    "plt.plot(X,YCV_M)\n",
    "plt.xlabel(\"Value of k\")\n",
    "plt.ylabel(\"SEE\")\n",
    "plt.title(\"R\")\n",
    "\n",
    "\n",
    "plt.subplot(2,2,4)\n",
    "plt.plot(X,YCV_M2)\n",
    "plt.xlabel(\"Value of k\")\n",
    "plt.ylabel(\"SEE\")\n",
    "plt.title(\"R2\")\n",
    "\n",
    "plt.tight_layout()\n",
    "\n",
    "plt.show()\n"
   ]
  },
  {
   "cell_type": "markdown",
   "id": "10dcd48f",
   "metadata": {},
   "source": [
    "# Alternated Least Squares "
   ]
  },
  {
   "cell_type": "code",
   "execution_count": 721,
   "id": "779f2663",
   "metadata": {},
   "outputs": [],
   "source": [
    "#Alternated Least Squares\n",
    "#Recieves a matrix R, the value of rank k, and applies the alrotihm described until it reaches a maximum number of iterations n\n",
    "#or until the norm of the difference between each iteration if inferior to e; Outputs the matrix resulting from the last\n",
    "#iteration\n",
    "\n",
    "def ALS(R,k,n,e,norm):\n",
    "    X=[[np.random.randint(1,5) for i in range(k)] for j in range(Nb_Movies)]\n",
    "    Y=[[np.random.randint(1,5) for i in range(Nb_Users)] for j in range(k)]\n",
    "    #print(X[0])\n",
    "    err1=np.linalg.norm(np.add(R,-np.dot(X,Y)),norm)\n",
    "    err2=0\n",
    "    diff=abs(err2-err1)\n",
    "    it=0\n",
    "    while it<n and diff>e:\n",
    "        err1=err2\n",
    "        Y=np.around(np.dot(np.dot(np.linalg.inv((np.dot(np.transpose(X),X))),np.transpose(X)),R),decimals=3)\n",
    "        X=np.around(np.dot(R,np.dot(np.transpose(Y),np.linalg.inv(np.dot(Y,np.transpose(Y))))),decimals=3)\n",
    "        err2=np.around(np.linalg.norm(np.add(R,-np.dot(X,Y)),norm),decimals=4)\n",
    "        diff=abs(err2-err1)\n",
    "        it+=1\n",
    "    if it==n:\n",
    "        print('Nº of iterations exceeded')\n",
    "    R_k=np.dot(X,Y)\n",
    "    err=np.linalg.norm(np.add(R,-R_k),norm)\n",
    "    return([R_k,err])\n",
    "            "
   ]
  },
  {
   "cell_type": "code",
   "execution_count": 21,
   "id": "a7237a9a",
   "metadata": {
    "scrolled": false
   },
   "outputs": [],
   "source": [
    "#Test\n",
    "#ALS(Ratings_Matrix,500,10,1,'fro')"
   ]
  },
  {
   "cell_type": "code",
   "execution_count": 722,
   "id": "364386e6",
   "metadata": {},
   "outputs": [],
   "source": [
    "Y_ALS_Results=[ALS(Ratings_Matrix,k,10,10,'fro') for k in X]\n",
    "Y_ALS_Results_2=[ALS(Ratings_Matrix_2,k,10,10,'fro') for k in X]\n"
   ]
  },
  {
   "cell_type": "code",
   "execution_count": 723,
   "id": "6ed6786c",
   "metadata": {},
   "outputs": [],
   "source": [
    "Y1_ALS=[i[1] for i in Y_ALS_Results]\n",
    "Y2_ALS=[i[1] for i in Y_ALS_Results_2]"
   ]
  },
  {
   "cell_type": "code",
   "execution_count": 34,
   "id": "9aa16dcf",
   "metadata": {},
   "outputs": [],
   "source": [
    "Y_ALS_Results_2=[ALS(Ratings_Matrix_2,k,10,10,'fro') for k in X]"
   ]
  },
  {
   "cell_type": "code",
   "execution_count": 31,
   "id": "6730d242",
   "metadata": {},
   "outputs": [
    {
     "data": {
      "image/png": "[encoded data removed]",
      "text/plain": [
       "<Figure size 432x288 with 2 Axes>"
      ]
     },
     "metadata": {
      "needs_background": "light"
     },
     "output_type": "display_data"
    }
   ],
   "source": [
    "plt.subplot(1,2,1)\n",
    "plt.plot(X,Y1_ALS)\n",
    "plt.xlabel(\"Value of k\")\n",
    "plt.ylabel(\"Error\")\n",
    "plt.title(\"Reconstruction error for R\")\n",
    "\n",
    "plt.subplot(1, 2, 2)\n",
    "plt.plot(X,Y2_ALS)\n",
    "plt.xlabel(\"Value of k\")\n",
    "plt.ylabel(\"Error\")\n",
    "plt.title(\"Reconstruction error for R2\")\n",
    "\n",
    "plt.tight_layout()\n",
    "plt.show()"
   ]
  },
  {
   "cell_type": "code",
   "execution_count": 33,
   "id": "7cd40229",
   "metadata": {},
   "outputs": [],
   "source": [
    "Y_ALS_CV=[ALS(Ratings_Matrix_Train,k,10,10,'fro') for k in X]"
   ]
  },
  {
   "cell_type": "code",
   "execution_count": 32,
   "id": "904edbfe",
   "metadata": {},
   "outputs": [],
   "source": [
    "Y_ALS_CV_2=[ALS(Ratings_Matrix_Train_2,k,10,10,'fro') for k in X]"
   ]
  },
  {
   "cell_type": "code",
   "execution_count": 16,
   "id": "61c3b4fc",
   "metadata": {},
   "outputs": [],
   "source": [
    "Results_ALS_CV_R=[CV_error(i[0],Ratings_Matrix_Test,Entries) for i in Y_ALS_CV]\n",
    "Results_ALS_CV_R_2=[CV_error(i[0],Ratings_Matrix_Test,Entries) for i in Y_ALS_CV_2]"
   ]
  },
  {
   "cell_type": "code",
   "execution_count": 17,
   "id": "cace1f59",
   "metadata": {},
   "outputs": [],
   "source": [
    "YCV_ALS=[i[0] for i in Results_ALS_CV_R]\n",
    "YCV2_ALS=[i[0] for i in Results_ALS_CV_R_2]\n",
    "\n",
    "YCV_ALS_M=[i[1] for i in Results_ALS_CV_R]\n",
    "YCV_ALS_M2 =[ i[1] for i in Results_ALS_CV_R_2]"
   ]
  },
  {
   "cell_type": "code",
   "execution_count": 38,
   "id": "03e966de",
   "metadata": {},
   "outputs": [
    {
     "data": {
      "text/plain": [
       "2.8658942168945885"
      ]
     },
     "execution_count": 38,
     "metadata": {},
     "output_type": "execute_result"
    }
   ],
   "source": [
    "min([i for i in YCV_ALS_M])"
   ]
  },
  {
   "cell_type": "code",
   "execution_count": 40,
   "id": "c3140475",
   "metadata": {},
   "outputs": [
    {
     "data": {
      "text/plain": [
       "1.271283227875269"
      ]
     },
     "execution_count": 40,
     "metadata": {},
     "output_type": "execute_result"
    }
   ],
   "source": [
    "min([i for i in YCV_ALS_M2])"
   ]
  },
  {
   "cell_type": "code",
   "execution_count": 27,
   "id": "c0898705",
   "metadata": {},
   "outputs": [
    {
     "data": {
      "text/plain": [
       "82823.41799594255"
      ]
     },
     "execution_count": 27,
     "metadata": {},
     "output_type": "execute_result"
    }
   ],
   "source": [
    "YCV_ALS[5]"
   ]
  },
  {
   "cell_type": "code",
   "execution_count": 36,
   "id": "fe3fe163",
   "metadata": {},
   "outputs": [
    {
     "data": {
      "text/plain": [
       "16297.367982589698"
      ]
     },
     "execution_count": 36,
     "metadata": {},
     "output_type": "execute_result"
    }
   ],
   "source": [
    "YCV2_ALS[len(X)-1]"
   ]
  },
  {
   "cell_type": "code",
   "execution_count": 18,
   "id": "67d83bd1",
   "metadata": {},
   "outputs": [
    {
     "data": {
      "image/png": "[encoded data removed]",
      "text/plain": [
       "<Figure size 432x288 with 4 Axes>"
      ]
     },
     "metadata": {
      "needs_background": "light"
     },
     "output_type": "display_data"
    }
   ],
   "source": [
    "plt.title(\"Cross Validation Errors for R and R2\")\n",
    "\n",
    "plt.subplot(2,2,1)\n",
    "plt.plot(X,YCV_ALS)\n",
    "plt.xlabel(\"Value of k\")\n",
    "plt.ylabel(\"SSE\")\n",
    "plt.title(\"R\")\n",
    "\n",
    "plt.subplot(2,2,2)\n",
    "plt.plot(X,YCV2_ALS)\n",
    "plt.xlabel(\"Value of k\")\n",
    "plt.ylabel(\"SSE\")\n",
    "plt.title(\"R2\")\n",
    "\n",
    "plt.subplot(2,2,3)\n",
    "plt.plot(X,YCV_ALS_M)\n",
    "plt.xlabel(\"Value of k\")\n",
    "plt.ylabel(\"SEE\")\n",
    "plt.title(\"R\")\n",
    "\n",
    "\n",
    "plt.subplot(2,2,4)\n",
    "plt.plot(X,YCV_ALS_M2)\n",
    "plt.xlabel(\"Value of k\")\n",
    "plt.ylabel(\"SEE\")\n",
    "plt.title(\"R2\")\n",
    "\n",
    "plt.tight_layout()\n",
    "\n",
    "plt.show()"
   ]
  },
  {
   "cell_type": "markdown",
   "id": "7bf66497",
   "metadata": {},
   "source": [
    "# Non negative matrix factorization"
   ]
  },
  {
   "cell_type": "code",
   "execution_count": 27,
   "id": "aa437dbb",
   "metadata": {},
   "outputs": [],
   "source": [
    "#No sparseness constraints applied\n",
    "\n",
    "\n",
    "#R -Ratings Matrix\n",
    "#k - Rank of factorization\n",
    "#e - error to stop\n",
    "#n - nº of iterations to stop\n",
    "#norm - norm used for calculating de algorithm\n",
    "\n",
    "def NMF(R,k,e,n, norm):\n",
    "    W=[[rnd.randint(1,5) for i in range(k)] for j in range(Nb_Movies)]\n",
    "    H=[[rnd.randint(1,5) for i in range(Nb_Users)] for j in range(k)]\n",
    "    i=0\n",
    "    err1=np.linalg.norm(np.add(R,-np.dot(W,H)),norm)\n",
    "    err2=0\n",
    "    n1=0\n",
    "    \n",
    "    diff=(abs(err1-err2))\n",
    "    \n",
    "    while i<n and diff>e:\n",
    "        err1=err2\n",
    "        \n",
    "        a=np.dot(np.transpose(W),R)\n",
    "        b=np.add(np.dot(np.dot(np.transpose(W),W),H),10**(-10)) #Prevents division by 0\n",
    "        \n",
    "        H=np.multiply(H,\n",
    "                     np.divide(a,b))\n",
    "        H=np.around(H,decimals=5)\n",
    "        \n",
    "        a=np.dot(R,np.transpose(H))\n",
    "        b=np.add(np.dot(np.dot(W,H),np.transpose(H)),10**(-10))\n",
    "        W=np.multiply(W,np.divide ( a,b))\n",
    "        \n",
    "        W=np.around(W,decimals=5)\n",
    "                     \n",
    "                    \n",
    "        err2=np.linalg.norm(np.add(R,-np.dot(W,H)),norm)\n",
    "        diff=abs(err1-err2)\n",
    "        i=i+1\n",
    "    if i==n:\n",
    "        print('Maximum number of iterations reached')\n",
    "    R_k=np.dot(W,H)\n",
    "    Reconstruction_error=np.linalg.norm(np.add(R,-R_k),norm)\n",
    "    return([Reconstruction_error,R_k])\n",
    "    "
   ]
  },
  {
   "cell_type": "code",
   "execution_count": 22,
   "id": "91ea0341",
   "metadata": {},
   "outputs": [],
   "source": [
    "#Reconstruction error\n",
    "Y_NMF_Results=[NMF(Ratings_Matrix,k,1,100,'fro')[0] for k in X]\n"
   ]
  },
  {
   "cell_type": "code",
   "execution_count": 23,
   "id": "5995a5b6",
   "metadata": {},
   "outputs": [],
   "source": [
    "Y_NMF_Results_2=[NMF(Ratings_Matrix_2,k,1,100,'fro')[0] for k in X]"
   ]
  },
  {
   "cell_type": "code",
   "execution_count": 211,
   "id": "02627591",
   "metadata": {},
   "outputs": [
    {
     "data": {
      "text/plain": [
       "359.86563404488993"
      ]
     },
     "execution_count": 211,
     "metadata": {},
     "output_type": "execute_result"
    }
   ],
   "source": [
    "max(Y_NMF_Results_2)"
   ]
  },
  {
   "cell_type": "code",
   "execution_count": 214,
   "id": "47e2e267",
   "metadata": {},
   "outputs": [
    {
     "data": {
      "text/plain": [
       "359.86563404488993"
      ]
     },
     "execution_count": 214,
     "metadata": {},
     "output_type": "execute_result"
    }
   ],
   "source": [
    "Y_NMF_Results_2[50]"
   ]
  },
  {
   "cell_type": "code",
   "execution_count": 215,
   "id": "aeef0d84",
   "metadata": {},
   "outputs": [
    {
     "data": {
      "text/plain": [
       "60"
      ]
     },
     "execution_count": 215,
     "metadata": {},
     "output_type": "execute_result"
    }
   ],
   "source": [
    "X[50]"
   ]
  },
  {
   "cell_type": "code",
   "execution_count": 209,
   "id": "ec062b98",
   "metadata": {},
   "outputs": [],
   "source": [
    "Y1_NMF=[i for i in Y_NMF_Results]\n",
    "Y2_NMF=[i for i in Y_NMF_Results_2]"
   ]
  },
  {
   "cell_type": "code",
   "execution_count": 210,
   "id": "340c2f91",
   "metadata": {},
   "outputs": [
    {
     "data": {
      "image/png": "[encoded data removed]",
      "text/plain": [
       "<Figure size 432x288 with 2 Axes>"
      ]
     },
     "metadata": {
      "needs_background": "light"
     },
     "output_type": "display_data"
    }
   ],
   "source": [
    "plt.subplot(1,2,1)\n",
    "plt.plot(X,Y1_NMF)\n",
    "plt.xlabel(\"Value of k\")\n",
    "plt.ylabel(\"Error\")\n",
    "plt.title(\"Reconstruction error for R\")\n",
    "\n",
    "plt.subplot(1, 2, 2)\n",
    "plt.plot(X,Y2_NMF)\n",
    "plt.xlabel(\"Value of k\")\n",
    "plt.ylabel(\"Error\")\n",
    "plt.title(\"Reconstruction error for R2\")\n",
    "\n",
    "plt.tight_layout()\n",
    "plt.show()"
   ]
  },
  {
   "cell_type": "code",
   "execution_count": 29,
   "id": "a2ee2344",
   "metadata": {},
   "outputs": [],
   "source": [
    "Y_NMF_CV=[NMF(Ratings_Matrix_Train,k,1,100,'fro') for k in X]"
   ]
  },
  {
   "cell_type": "code",
   "execution_count": 26,
   "id": "4e4fd639",
   "metadata": {},
   "outputs": [],
   "source": [
    "Y_NMF_CV_2=[NMF(Ratings_Matrix_Train_2,k,1,100,'fro') for k in X]"
   ]
  },
  {
   "cell_type": "code",
   "execution_count": 17,
   "id": "d7f9583a",
   "metadata": {},
   "outputs": [],
   "source": [
    "Results_NMF_CV_R=[CV_error(i[1],Ratings_Matrix_Test,Entries) for i in Y_NMF_CV]\n",
    "Results_NMF_CV_R_2=[CV_error(i[1],Ratings_Matrix_Test,Entries) for i in Y_NMF_CV_2]"
   ]
  },
  {
   "cell_type": "code",
   "execution_count": 19,
   "id": "118a2892",
   "metadata": {},
   "outputs": [],
   "source": [
    "YCV_NMF=[i[0] for i in Results_NMF_CV_R]\n",
    "YCV2_NMF=[i[0] for i in Results_NMF_CV_R_2]\n",
    "\n",
    "YCV_NMF_M=[i[1] for i in Results_NMF_CV_R]\n",
    "YCV_NMF_M2 =[ i[1] for i in Results_NMF_CV_R_2]"
   ]
  },
  {
   "cell_type": "code",
   "execution_count": 23,
   "id": "28d05106",
   "metadata": {},
   "outputs": [
    {
     "data": {
      "text/plain": [
       "[85581.0959571481, 24600.984095551066, 2.9132147715456096, 1.5619237246083921]"
      ]
     },
     "execution_count": 23,
     "metadata": {},
     "output_type": "execute_result"
    }
   ],
   "source": [
    "[min(YCV_NMF),min(YCV2_NMF),min(YCV_NMF_M),min(YCV_NMF_M2)]"
   ]
  },
  {
   "cell_type": "code",
   "execution_count": 30,
   "id": "d8153fb3",
   "metadata": {},
   "outputs": [
    {
     "data": {
      "text/plain": [
       "85581.0959571481"
      ]
     },
     "execution_count": 30,
     "metadata": {},
     "output_type": "execute_result"
    }
   ],
   "source": [
    "YCV_NMF[8]"
   ]
  },
  {
   "cell_type": "code",
   "execution_count": 31,
   "id": "a4a419e7",
   "metadata": {},
   "outputs": [
    {
     "data": {
      "text/plain": [
       "9"
      ]
     },
     "execution_count": 31,
     "metadata": {},
     "output_type": "execute_result"
    }
   ],
   "source": [
    "X[8]"
   ]
  },
  {
   "cell_type": "code",
   "execution_count": 21,
   "id": "3b1b6f2a",
   "metadata": {},
   "outputs": [
    {
     "data": {
      "image/png": "[encoded data removed]",
      "text/plain": [
       "<Figure size 432x288 with 4 Axes>"
      ]
     },
     "metadata": {
      "needs_background": "light"
     },
     "output_type": "display_data"
    }
   ],
   "source": [
    "plt.subplot(2,2,1)\n",
    "plt.plot(X,YCV_NMF)\n",
    "plt.xlabel(\"Value of k\")\n",
    "plt.ylabel(\"SSE\")\n",
    "plt.title(\"R\")\n",
    "\n",
    "plt.subplot(2,2,2)\n",
    "plt.plot(X,YCV2_NMF)\n",
    "plt.xlabel(\"Value of k\")\n",
    "plt.ylabel(\"SSE\")\n",
    "plt.title(\"R2\")\n",
    "\n",
    "plt.subplot(2,2,3)\n",
    "plt.plot(X,YCV_NMF_M)\n",
    "plt.xlabel(\"Value of k\")\n",
    "plt.ylabel(\"SEE\")\n",
    "plt.title(\"R\")\n",
    "\n",
    "plt.subplot(2,2,4)\n",
    "plt.plot(X,YCV_NMF_M2)\n",
    "plt.xlabel(\"Value of k\")\n",
    "plt.ylabel(\"SEE\")\n",
    "plt.title(\"R2\")\n",
    "\n",
    "plt.tight_layout()\n",
    "\n",
    "plt.show()"
   ]
  },
  {
   "cell_type": "markdown",
   "id": "f410179f",
   "metadata": {},
   "source": [
    "# Latent Space Analysis"
   ]
  },
  {
   "cell_type": "code",
   "execution_count": 30,
   "id": "78342a53",
   "metadata": {},
   "outputs": [],
   "source": [
    "movies=[Ratings_Matrix[i] for i in range(100)]"
   ]
  },
  {
   "cell_type": "code",
   "execution_count": 32,
   "id": "0fcdf802",
   "metadata": {},
   "outputs": [],
   "source": [
    "#Returns the mean rating for the movie at position i\n",
    "def mean_class(R,i):\n",
    "    mean=0\n",
    "    n_ent=0\n",
    "    for k in range(Nb_Users):\n",
    "        if R[i][k]!=0:\n",
    "            mean=mean+R[i][k]\n",
    "            n_ent=n_ent+1\n",
    "    mean=np.around(mean/n_ent,decimals=5)\n",
    "    return(mean)"
   ]
  },
  {
   "cell_type": "code",
   "execution_count": 33,
   "id": "02f17b73",
   "metadata": {},
   "outputs": [],
   "source": [
    "def SVD_proj(R,SVD,k,norm,n_movies):\n",
    "    [U,s,V]=SVD\n",
    "    Sigma=np.copy(np.diag(s[:k]))#Create diagonal matrix\n",
    "    M = np.around(np.dot(U[:,:k], Sigma),decimals=5)#Create matrix Rk\n",
    "    return M[:n_movies]"
   ]
  },
  {
   "cell_type": "code",
   "execution_count": 98,
   "id": "c4858296",
   "metadata": {},
   "outputs": [
    {
     "data": {
      "image/png": "[encoded data removed]",
      "text/plain": [
       "<Figure size 432x288 with 1 Axes>"
      ]
     },
     "metadata": {
      "needs_background": "light"
     },
     "output_type": "display_data"
    }
   ],
   "source": [
    "LS_SVD=SVD_proj(Ratings_Matrix,SVD_R,2,'fro',100)\n",
    "mean1,mean2=[sum(LS_SVD[0])/100,sum(LS_SVD[1])/100]\n",
    "\n",
    "for i in range(100):\n",
    "    if mean_class(Ratings_Matrix,i)>=3.5:\n",
    "        plt.scatter(LS_SVD[i][0],LS_SVD[i][1],c='green')\n",
    "    elif mean_class(Ratings_Matrix,i)<=2.5:\n",
    "        plt.scatter(LS_SVD[i][0],LS_SVD[i][1],c='red')\n",
    "    else:\n",
    "        plt.scatter(LS_SVD[i][0],LS_SVD[i][1],c='yellow')\n",
    "        \n",
    "        \n",
    "plt.scatter(mean1,mean2,c='blue')\n",
    "\n",
    "plt.title('Projection using SVD algorithm')\n",
    "plt.show()"
   ]
  },
  {
   "cell_type": "code",
   "execution_count": 42,
   "id": "cad38bae",
   "metadata": {},
   "outputs": [],
   "source": [
    "def ALS_proj(R,k,n,e,norm,n_movies):\n",
    "    X=[[np.random.randint(1,5) for i in range(k)] for j in range(Nb_Movies)]\n",
    "    Y=[[np.random.randint(1,5) for i in range(Nb_Users)] for j in range(k)]\n",
    "    #print(X[0])\n",
    "    err1=np.linalg.norm(np.add(R,-np.dot(X,Y)),norm)\n",
    "    err2=0\n",
    "    diff=abs(err2-err1)\n",
    "    it=0\n",
    "    while it<n and diff>e:\n",
    "        err1=err2\n",
    "        Y=np.around(np.dot(np.dot(np.linalg.inv((np.dot(np.transpose(X),X))),np.transpose(X)),R),decimals=3)\n",
    "        X=np.around(np.dot(R,np.dot(np.transpose(Y),np.linalg.inv(np.dot(Y,np.transpose(Y))))),decimals=3)\n",
    "        err2=np.around(np.linalg.norm(np.add(R,-np.dot(X,Y)),norm),decimals=4)\n",
    "        diff=abs(err2-err1)\n",
    "        it+=1\n",
    "    if it==n:\n",
    "        print('Nº of iterations exceeded')\n",
    "        \n",
    "        \n",
    "    return(X[:n_movies])\n",
    "            "
   ]
  },
  {
   "cell_type": "code",
   "execution_count": 85,
   "id": "0616570d",
   "metadata": {},
   "outputs": [],
   "source": [
    "LS_ALS=ALS_proj(Ratings_Matrix,2,100,1,'fro',100)\n",
    "mean1,mean2=[sum(LS_ALS[0])/100,sum(LS_ALS[1])/100]\n"
   ]
  },
  {
   "cell_type": "code",
   "execution_count": 97,
   "id": "8bdba44a",
   "metadata": {},
   "outputs": [
    {
     "data": {
      "image/png": "[encoded data removed]",
      "text/plain": [
       "<Figure size 432x288 with 1 Axes>"
      ]
     },
     "metadata": {
      "needs_background": "light"
     },
     "output_type": "display_data"
    }
   ],
   "source": [
    "for i in range(100):\n",
    "    if mean_class(Ratings_Matrix,i)>=3.5:\n",
    "        plt.scatter(LS_ALS[i][0],LS_ALS[i][1],c='green')\n",
    "    elif mean_class(Ratings_Matrix,i)<=2.5:\n",
    "        plt.scatter(LS_ALS[i][0],LS_ALS[i][1],c='red')\n",
    "    else:\n",
    "        plt.scatter(LS_ALS[i][0],LS_ALS[i][1],c='yellow')\n",
    "        \n",
    "        \n",
    "plt.scatter(mean1,mean2,c='blue')\n",
    "\n",
    "plt.title('Projection using ALS algorithm')\n",
    "plt.show()"
   ]
  },
  {
   "cell_type": "code",
   "execution_count": 29,
   "id": "058c26b4",
   "metadata": {},
   "outputs": [],
   "source": [
    "def NMF_proj(R,k,e,n, norm, n_movies):\n",
    "    W=[[np.random.randint(1,5) for i in range(k)] for j in range(Nb_Movies)]\n",
    "    H=[[np.random.randint(1,5) for i in range(Nb_Users)] for j in range(k)]\n",
    "    i=0\n",
    "    err1=np.linalg.norm(np.add(R,-np.dot(W,H)),norm)\n",
    "    err2=0\n",
    "    diff=err1\n",
    "    \n",
    "    while i<n and diff>e:\n",
    "        \n",
    "        err1=err2\n",
    "        \n",
    "        a=np.dot(np.transpose(W),R)\n",
    "        b=np.add(np.dot(np.dot(np.transpose(W),W),H),10**(-10))\n",
    "        \n",
    "        H=np.multiply(H,\n",
    "                     np.divide(a,b))\n",
    "        H=np.around(H,decimals=5)\n",
    "        \n",
    "        a=np.dot(R,np.transpose(H))\n",
    "        b=np.add(np.dot(np.dot(W,H),np.transpose(H)),10**(-10))\n",
    "        W=np.multiply(W,np.divide ( a,b))\n",
    "        \n",
    "        W=np.around(W,decimals=5)\n",
    "        \n",
    "        i=i+1\n",
    "    return(W[:n_movies])"
   ]
  },
  {
   "cell_type": "code",
   "execution_count": 30,
   "id": "c017860d",
   "metadata": {},
   "outputs": [],
   "source": [
    "LS_NMF=NMF_proj(Ratings_Matrix,2,1,100, 'fro', 100)\n",
    "mean1,mean2=[sum(LS_NMF[0])/100,sum(LS_NMF[1])/100]"
   ]
  },
  {
   "cell_type": "code",
   "execution_count": 96,
   "id": "5f45f7aa",
   "metadata": {},
   "outputs": [
    {
     "data": {
      "image/png": "[encoded data removed]",
      "text/plain": [
       "<Figure size 432x288 with 1 Axes>"
      ]
     },
     "metadata": {
      "needs_background": "light"
     },
     "output_type": "display_data"
    }
   ],
   "source": [
    "for i in range(100):\n",
    "    if mean_class(Ratings_Matrix,i)>=3.5:\n",
    "        plt.scatter(LS_NMF[i][0],LS_NMF[i][1],c='green')\n",
    "    elif mean_class(Ratings_Matrix,i)<=2.5:\n",
    "        plt.scatter(LS_NMF[i][0],LS_NMF[i][1],c='red')\n",
    "    else:\n",
    "        plt.scatter(LS_NMF[i][0],LS_NMF[i][1],c='yellow')\n",
    "        \n",
    "        \n",
    "plt.scatter(mean1,mean2,c='blue')\n",
    "plt.title('Projection using NMF algorithm')\n",
    "plt.show()"
   ]
  },
  {
   "cell_type": "code",
   "execution_count": 109,
   "id": "5f7ec2e5",
   "metadata": {},
   "outputs": [
    {
     "data": {
      "text/plain": [
       "count    100836.000000\n",
       "mean          3.501557\n",
       "std           1.042529\n",
       "min           0.500000\n",
       "25%           3.000000\n",
       "50%           3.500000\n",
       "75%           4.000000\n",
       "max           5.000000\n",
       "dtype: float64"
      ]
     },
     "execution_count": 109,
     "metadata": {},
     "output_type": "execute_result"
    }
   ],
   "source": [
    "s = pd.Series(Ratings)\n",
    "s.describe()"
   ]
  },
  {
   "cell_type": "code",
   "execution_count": 35,
   "id": "19ab086e",
   "metadata": {},
   "outputs": [],
   "source": [
    "AVG_Ratings=[mean_class(Ratings_Matrix,i) for i in range(100)]"
   ]
  },
  {
   "cell_type": "code",
   "execution_count": 36,
   "id": "4879a005",
   "metadata": {},
   "outputs": [
    {
     "data": {
      "image/png": "[encoded data removed]",
      "text/plain": [
       "<Figure size 432x288 with 1 Axes>"
      ]
     },
     "metadata": {
      "needs_background": "light"
     },
     "output_type": "display_data"
    }
   ],
   "source": [
    "#Average Ratings Histogram\n",
    "\n",
    "plt.xlim([0, 5])\n",
    "\n",
    "binwidth = 0.5\n",
    "plt.hist(AVG_Ratings, bins = np.arange(0, 5.0 + binwidth, binwidth))\n",
    "plt.title('Average Movie Ratings for the first 100 movies')\n",
    "plt.xlabel('Average Rating')\n",
    "plt.ylabel('Count')\n",
    "\n",
    "plt.show()"
   ]
  },
  {
   "cell_type": "code",
   "execution_count": null,
   "id": "4d56bb4d",
   "metadata": {},
   "outputs": [],
   "source": []
  }
 ],
 "metadata": {
  "kernelspec": {
   "display_name": "Python 3 (ipykernel)",
   "language": "python",
   "name": "python3"
  },
  "language_info": {
   "codemirror_mode": {
    "name": "ipython",
    "version": 3
   },
   "file_extension": ".py",
   "mimetype": "text/x-python",
   "name": "python",
   "nbconvert_exporter": "python",
   "pygments_lexer": "ipython3",
   "version": "3.9.12"
  }
 },
 "nbformat": 4,
 "nbformat_minor": 5
}
